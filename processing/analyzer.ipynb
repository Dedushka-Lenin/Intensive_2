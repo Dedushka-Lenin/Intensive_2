{
 "cells": [
  {
   "cell_type": "markdown",
   "metadata": {},
   "source": [
    "_____________________________________________________________________________________________________________________________________________________________________________________________\n",
    "\n",
    "Инфо"
   ]
  },
  {
   "cell_type": "code",
   "execution_count": null,
   "metadata": {},
   "outputs": [
    {
     "name": "stdout",
     "output_type": "stream",
     "text": [
      "<class 'pandas.core.frame.DataFrame'>\n",
      "RangeIndex: 14456 entries, 0 to 14455\n",
      "Columns: 572 entries, report_date to col2663\n",
      "dtypes: float64(558), int64(3), object(11)\n",
      "memory usage: 63.1+ MB\n"
     ]
    }
   ],
   "source": [
    "import pandas as pd\n",
    "import seaborn as sns\n",
    "\n",
    "df = pd.read_csv(\"train.csv\")\n",
    "\n",
    "#############################################################################################################################################\n",
    "\n",
    "df.info()\n",
    "\n",
    "#############################################################################################################################################\n",
    "\n",
    "# sns.heatmap(df.isnull(), cmap='cividis', annot_kws={'size': 15000})\n",
    "\n",
    "#############################################################################################################################################\n",
    "\n",
    "# for elm in df.columns:\n",
    "#     nuv = df[elm].nunique()\n",
    "#     if nuv < 3: print(df[elm].unique())\n",
    "\n",
    "#############################################################################################################################################\n",
    "\n",
    "# print(len(df['col1454'].unique()))\n",
    "    "
   ]
  }
 ],
 "metadata": {
  "kernelspec": {
   "display_name": ".venv",
   "language": "python",
   "name": "python3"
  },
  "language_info": {
   "codemirror_mode": {
    "name": "ipython",
    "version": 3
   },
   "file_extension": ".py",
   "mimetype": "text/x-python",
   "name": "python",
   "nbconvert_exporter": "python",
   "pygments_lexer": "ipython3",
   "version": "3.11.9"
  }
 },
 "nbformat": 4,
 "nbformat_minor": 2
}
