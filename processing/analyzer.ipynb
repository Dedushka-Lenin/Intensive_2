{
 "cells": [
  {
   "cell_type": "markdown",
   "metadata": {},
   "source": [
    "_____________________________________________________________________________________________________________________________________________________________________________________________\n",
    "\n",
    "Инфо"
   ]
  },
  {
   "cell_type": "code",
   "execution_count": null,
   "metadata": {},
   "outputs": [],
   "source": [
    "import pandas as pd\n",
    "import seaborn as sns\n",
    "\n",
    "df = pd.read_csv(\"train1.csv\")\n",
    "\n",
    "#############################################################################################################################################\n",
    "\n",
    "df.info()\n",
    "\n",
    "#############################################################################################################################################\n",
    "\n",
    "sns.heatmap(df.isnull(), cmap='cividis', annot_kws={'size': 15000})\n",
    "\n",
    "#############################################################################################################################################\n",
    "\n",
    "for elm in df.columns:\n",
    "    nuv = df[elm].nunique()\n",
    "    if nuv < 2: print(df[elm].unique())\n",
    "    "
   ]
  },
  {
   "cell_type": "markdown",
   "metadata": {},
   "source": [
    "_____________________________________________________________________________________________________________________________________________________________________________________________\n",
    "\n",
    "Поиск процентов(столбцы)"
   ]
  },
  {
   "cell_type": "code",
   "execution_count": null,
   "metadata": {},
   "outputs": [],
   "source": [
    "import pandas as pd\n",
    "\n",
    "df = pd.read_csv(\"train.csv\")\n",
    "\n",
    "dn = {}\n",
    "nop_list = []\n",
    "percent = 102\n",
    "\n",
    "for elm in df.columns:\n",
    "    nop = len(df) - df.isnull().sum()[elm]\n",
    "    if nop < len(df) / 100 * percent: nop_list.append(nop)\n",
    "\n",
    "for i in range(1, 102):\n",
    "    asist = []\n",
    "\n",
    "    for elm in nop_list:\n",
    "        if elm < len(df) / 100 * i: asist.append(nop)\n",
    "\n",
    "    dn[i] = len(asist)\n",
    "\n",
    "for elm in dn:\n",
    "    print(f'{elm} : {dn[elm]}')"
   ]
  },
  {
   "cell_type": "markdown",
   "metadata": {},
   "source": [
    "_____________________________________________________________________________________________________________________________________________________________________________________________\n",
    "Поиск маловлиятельных столбцов"
   ]
  },
  {
   "cell_type": "code",
   "execution_count": null,
   "metadata": {},
   "outputs": [],
   "source": [
    "import pandas as pd\n",
    "\n",
    "#############################################################################################################################################\n",
    "\n",
    "df = pd.read_csv(\"train.csv\")\n",
    "\n",
    "#############################################################################################################################################\n",
    "\n",
    "numeric_df = df.select_dtypes(include=['float64', 'int64'])\n",
    "numeric_df = numeric_df.drop(['client_id','target'], axis=1) \n",
    "\n",
    "percent = 10\n",
    "\n",
    "for elm in numeric_df.columns:\n",
    "\n",
    "    asis = df[elm].corr(df['target'])\n",
    "\n",
    "    if asis >= percent / 100 or asis <= percent / -100: print(f\"{elm} : {asis}\")\n"
   ]
  },
  {
   "cell_type": "code",
   "execution_count": null,
   "metadata": {},
   "outputs": [],
   "source": [
    "import pandas as pd\n",
    "\n",
    "#############################################################################################################################################\n",
    "\n",
    "df = pd.read_csv(\"train.csv\")\n",
    "\n",
    "#############################################################################################################################################\n",
    "\n",
    "df = df.dropna(subset=df.columns)\n",
    "\n",
    "df.to_csv(\"train2.csv\", index=False)\n",
    "\n",
    "change_n = []\n",
    "\n",
    "for elm in df.columns:\n",
    "\n",
    "    asist = True\n",
    "\n",
    "    for i in df[elm]:\n",
    "        if isinstance(i, int) or not i.is_integer(): \n",
    "            asist = False\n",
    "            break\n",
    "        \n",
    "    if asist: change_n.append(elm)\n",
    "\n",
    "print(change_n)\n",
    "\n",
    "df.info()\n"
   ]
  }
 ],
 "metadata": {
  "kernelspec": {
   "display_name": ".venv",
   "language": "python",
   "name": "python3"
  },
  "language_info": {
   "codemirror_mode": {
    "name": "ipython",
    "version": 3
   },
   "file_extension": ".py",
   "mimetype": "text/x-python",
   "name": "python",
   "nbconvert_exporter": "python",
   "pygments_lexer": "ipython3",
   "version": "3.11.9"
  }
 },
 "nbformat": 4,
 "nbformat_minor": 2
}
