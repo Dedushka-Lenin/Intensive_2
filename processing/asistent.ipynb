{
 "cells": [
  {
   "cell_type": "markdown",
   "metadata": {},
   "source": [
    "_____________________________________________________________________________________________________________________________________________________________________________________________\n",
    "\n",
    "Сортировка по id и удаление str"
   ]
  },
  {
   "cell_type": "code",
   "execution_count": 6,
   "metadata": {},
   "outputs": [],
   "source": [
    "import pandas as pd\n",
    "\n",
    "df = pd.read_csv(\"train.csv\")\n",
    "df = df.sort_values('client_id')\n",
    "\n",
    "df = df.select_dtypes(exclude=['object'])\n",
    "\n",
    "df.to_csv(\"train.csv\", index=False)"
   ]
  },
  {
   "cell_type": "markdown",
   "metadata": {},
   "source": [
    "_____________________________________________________________________________________________________________________________________________________________________________________________\n",
    "\n",
    "Слияние"
   ]
  },
  {
   "cell_type": "code",
   "execution_count": 7,
   "metadata": {},
   "outputs": [],
   "source": [
    "import pandas as pd\n",
    "import math\n",
    "\n",
    "#############################################################################################################################################\n",
    "\n",
    "df = pd.read_csv(\"train.csv\")\n",
    "\n",
    "#############################################################################################################################################\n",
    "\n",
    "grouped = df.groupby('client_id')\n",
    "\n",
    "asist = []\n",
    "data = {}\n",
    "s = 0\n",
    "\n",
    "for e in df.columns:\n",
    "    data[e] = []\n",
    "\n",
    "for elm in grouped:\n",
    "\n",
    "    for i in df.columns:\n",
    "        l = s\n",
    "\n",
    "        while math.isnan(elm[1][i][l]) and l < len(elm[1][i]) - 1 + s: l += 1\n",
    "\n",
    "        data[i].append(elm[1][i][l])\n",
    "\n",
    "    s += len(elm[1][i])\n",
    "\n",
    "df = pd.DataFrame(data)\n",
    "df.to_csv(\"train.csv\", index=False)"
   ]
  },
  {
   "cell_type": "markdown",
   "metadata": {},
   "source": [
    "_____________________________________________________________________________________________________________________________________________________________________________________________\n",
    "\n",
    "Удаление молозаполненных столбцов"
   ]
  },
  {
   "cell_type": "code",
   "execution_count": 8,
   "metadata": {},
   "outputs": [],
   "source": [
    "import pandas as pd\n",
    "\n",
    "#############################################################################################################################################\n",
    "\n",
    "df = pd.read_csv(\"train.csv\")\n",
    "\n",
    "#############################################################################################################################################\n",
    "\n",
    "dn = []\n",
    "percent = 8\n",
    "\n",
    "for elm in df.columns:\n",
    "    nop = len(df) - df.isnull().sum()[elm]\n",
    "    if nop < len(df) / 100 * percent: dn.append(elm)\n",
    "\n",
    "df = df.drop(dn, axis=1)\n",
    "\n",
    "df.to_csv( \"train.csv\", index=False, encoding='utf-8-sig')\n"
   ]
  },
  {
   "cell_type": "markdown",
   "metadata": {},
   "source": [
    "_____________________________________________________________________________________________________________________________________________________________________________________________\n",
    "\n",
    "Удаление столбиков где мение 2 уникальных элементов"
   ]
  },
  {
   "cell_type": "code",
   "execution_count": 9,
   "metadata": {},
   "outputs": [],
   "source": [
    "import pandas as pd\n",
    "\n",
    "#############################################################################################################################################\n",
    "\n",
    "df = pd.read_csv(\"train.csv\")\n",
    "\n",
    "#############################################################################################################################################\n",
    "\n",
    "dn = []\n",
    "\n",
    "for elm in df.columns:\n",
    "    nuv = df[elm].nunique()\n",
    "    if nuv < 2: dn.append(elm)\n",
    "\n",
    "df = df.drop(dn, axis=1) \n",
    "\n",
    "df.to_csv(\"train.csv\", index=False)"
   ]
  },
  {
   "cell_type": "markdown",
   "metadata": {},
   "source": [
    "_____________________________________________________________________________________________________________________________________________________________________________________________\n",
    "Удаление маловлиятельных столбцов"
   ]
  },
  {
   "cell_type": "code",
   "execution_count": 10,
   "metadata": {},
   "outputs": [],
   "source": [
    "import pandas as pd\n",
    "\n",
    "#############################################################################################################################################\n",
    "\n",
    "df = pd.read_csv(\"train.csv\")\n",
    "\n",
    "#############################################################################################################################################\n",
    "\n",
    "numeric_df = df.select_dtypes(include=['float64', 'int64'])\n",
    "\n",
    "ln = ['client_id']\n",
    "\n",
    "percent = 10\n",
    "\n",
    "for elm in numeric_df.columns:\n",
    "\n",
    "    asis = df[elm].corr(df['target'])\n",
    "    if asis >= percent / 100: ln.append(elm)\n",
    "\n",
    "#############################################################################################################################################\n",
    "\n",
    "dn = list(df.columns)\n",
    "\n",
    "for elm in ln: dn.remove(elm)\n",
    "\n",
    "df = df.drop(dn, axis=1)\n",
    "df.to_csv(\"train.csv\", index=False, encoding='utf-8-sig')"
   ]
  },
  {
   "cell_type": "markdown",
   "metadata": {},
   "source": [
    "_____________________________________________________________________________________________________________________________________________________________________________________________\n",
    "\n",
    "Удаление молозаполненных строк"
   ]
  },
  {
   "cell_type": "code",
   "execution_count": null,
   "metadata": {},
   "outputs": [],
   "source": [
    "import pandas as pd\n",
    "\n",
    "#############################################################################################################################################\n",
    "\n",
    "df = pd.read_csv(\"train.csv\")\n",
    "\n",
    "#############################################################################################################################################\n",
    "\n",
    "percent = 8\n",
    "\n",
    "# Вычисляем порогое значение для пропусков\n",
    "threshold = (100 - percent) / 100 * len(df.columns)\n",
    "\n",
    "# Удаляем строки с количеством пропусков больше 8%\n",
    "df = df.dropna(thresh=len(df.columns) - threshold)\n",
    "\n",
    "df.to_csv(\"train.csv\", index=False)"
   ]
  },
  {
   "cell_type": "markdown",
   "metadata": {},
   "source": [
    "_____________________________________________________________________________________________________________________________________________________________________________________________\n",
    "\n",
    "Заполнение пропусков"
   ]
  },
  {
   "cell_type": "code",
   "execution_count": null,
   "metadata": {},
   "outputs": [],
   "source": [
    "import pandas as pd\n",
    "from NoNa.nona import nona\n",
    "\n",
    "#############################################################################################################################################\n",
    "\n",
    "df = pd.read_csv(\"train.csv\")\n",
    "\n",
    "#############################################################################################################################################\n",
    "\n",
    "df = df.drop(['client_id'], axis=1)\n",
    "\n",
    "nona(df)\n",
    "\n",
    "df.to_csv(\"train1.csv\", index=False)"
   ]
  },
  {
   "cell_type": "code",
   "execution_count": 1,
   "metadata": {},
   "outputs": [],
   "source": [
    "import pandas as pd\n",
    "\n",
    "#############################################################################################################################################\n",
    "\n",
    "df = pd.read_csv(\"train.csv\")\n",
    "\n",
    "#############################################################################################################################################\n",
    "\n",
    "df = df.dropna(subset=df.columns)\n",
    "\n",
    "change_n = []\n",
    "\n",
    "for elm in df.columns:\n",
    "\n",
    "    for i in df[elm]:\n",
    "        if isinstance(i, int): break\n",
    "\n",
    "        if not i.is_integer(): \n",
    "            \n",
    "            change_n.append(elm)\n",
    "\n",
    "            break\n",
    "\n",
    "df = pd.read_csv(\"train1.csv\")\n",
    "\n",
    "for elm in df.columns:\n",
    "    nop = len(df) - df.isnull().sum()[elm]\n",
    "    if nop < len(df): df = df.drop(elm, axis=1)\n",
    "\n",
    "for elm in change_n:\n",
    "    try: df[elm] = df[elm].astype(int)\n",
    "    except KeyError: pass\n",
    "\n",
    "df.to_csv(\"train1.csv\", index=False)"
   ]
  }
 ],
 "metadata": {
  "kernelspec": {
   "display_name": ".venv",
   "language": "python",
   "name": "python3"
  },
  "language_info": {
   "codemirror_mode": {
    "name": "ipython",
    "version": 3
   },
   "file_extension": ".py",
   "mimetype": "text/x-python",
   "name": "python",
   "nbconvert_exporter": "python",
   "pygments_lexer": "ipython3",
   "version": "3.11.9"
  }
 },
 "nbformat": 4,
 "nbformat_minor": 2
}
