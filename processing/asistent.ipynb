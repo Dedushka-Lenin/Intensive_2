{
 "cells": [
  {
   "cell_type": "markdown",
   "metadata": {},
   "source": [
    "_____________________________________________________________________________________________________________________________________________________________________________________________\n",
    "\n",
    "Сортировка по id"
   ]
  },
  {
   "cell_type": "code",
   "execution_count": null,
   "metadata": {},
   "outputs": [],
   "source": [
    "import pandas as pd\n",
    "\n",
    "df = pd.read_csv(\"train.csv\")\n",
    "df = df.sort_values('client_id')\n",
    "df.to_csv(\"train.csv\", index=False)"
   ]
  },
  {
   "cell_type": "markdown",
   "metadata": {},
   "source": [
    "_____________________________________________________________________________________________________________________________________________________________________________________________\n",
    "\n",
    "Поиск процентов"
   ]
  },
  {
   "cell_type": "code",
   "execution_count": null,
   "metadata": {},
   "outputs": [],
   "source": [
    "import pandas as pd\n",
    "\n",
    "df = pd.read_csv(\"train.csv\")\n",
    "\n",
    "dn = []\n",
    "nop_list = []\n",
    "percent = 20\n",
    "\n",
    "for elm in df.columns:\n",
    "    nop = len(df) - df.isnull().sum()[elm]\n",
    "    if nop < len(df) / 100 * percent: nop_list.append(nop)\n",
    "\n",
    "for i in range(1, 21):\n",
    "    asist = []\n",
    "\n",
    "    for elm in nop_list:\n",
    "        if elm < len(df) / 100 * i: asist.append(nop)\n",
    "\n",
    "    dn.append(len(asist))\n",
    "\n",
    "print(dn)"
   ]
  },
  {
   "cell_type": "markdown",
   "metadata": {},
   "source": [
    "_____________________________________________________________________________________________________________________________________________________________________________________________\n",
    "\n",
    "Удаление моло заполненных столбцов"
   ]
  },
  {
   "cell_type": "code",
   "execution_count": null,
   "metadata": {},
   "outputs": [],
   "source": [
    "import pandas as pd\n",
    "\n",
    "df = pd.read_csv(\"train.csv\")\n",
    "\n",
    "dn = []\n",
    "percent = 8\n",
    "\n",
    "for elm in df.columns:\n",
    "    nop = len(df) - df.isnull().sum()[elm]\n",
    "    if nop < len(df) / 100 * percent: dn.append(elm)\n",
    "\n",
    "df = df.drop(dn, axis=1)\n",
    "\n",
    "df.to_csv( \"train.csv\", index=False, encoding='utf-8-sig')\n"
   ]
  },
  {
   "cell_type": "markdown",
   "metadata": {},
   "source": [
    "_____________________________________________________________________________________________________________________________________________________________________________________________\n",
    "\n",
    "Удаление дубликатов строк"
   ]
  },
  {
   "cell_type": "code",
   "execution_count": null,
   "metadata": {},
   "outputs": [],
   "source": [
    "import pandas as pd\n",
    "\n",
    "df = pd.read_csv(\"train.csv\")\n",
    "df = df.drop_duplicates()\n",
    "\n",
    "df.info()\n",
    "\n",
    "df.to_csv(\"train.csv\", index=False)"
   ]
  },
  {
   "cell_type": "markdown",
   "metadata": {},
   "source": [
    "_____________________________________________________________________________________________________________________________________________________________________________________________\n",
    "\n",
    "Удаление столбиков где мение 2 уникальных элементов"
   ]
  },
  {
   "cell_type": "code",
   "execution_count": null,
   "metadata": {},
   "outputs": [],
   "source": [
    "import pandas as pd\n",
    "\n",
    "df = pd.read_csv(\"train.csv\")\n",
    "\n",
    "dn = []\n",
    "\n",
    "for elm in df.columns:\n",
    "    nuv = df[elm].nunique()\n",
    "    if nuv < 2: dn.append(elm)\n",
    "\n",
    "df = df.drop(dn, axis=1) \n",
    "\n",
    "df.to_csv(\"train.csv\", index=False)"
   ]
  },
  {
   "cell_type": "markdown",
   "metadata": {},
   "source": [
    "_____________________________________________________________________________________________________________________________________________________________________________________________\n",
    "Поиск маловлиятельных столбцов"
   ]
  },
  {
   "cell_type": "code",
   "execution_count": null,
   "metadata": {},
   "outputs": [],
   "source": [
    "import pandas as pd\n",
    "\n",
    "#############################################################################################################################################\n",
    "\n",
    "df = pd.read_csv(\"train.csv\")\n",
    "\n",
    "#############################################################################################################################################\n",
    "\n",
    "numeric_df = df.select_dtypes(include=['float64', 'int64'])\n",
    "numeric_df = numeric_df.drop(['client_id','target'], axis=1) \n",
    "\n",
    "percent = 10\n",
    "\n",
    "for elm in numeric_df.columns:\n",
    "\n",
    "    asis = df[elm].corr(df['target'])\n",
    "\n",
    "    if asis >= percent / 100: print(f\"{elm} : {asis}\")\n"
   ]
  },
  {
   "cell_type": "markdown",
   "metadata": {},
   "source": [
    "_____________________________________________________________________________________________________________________________________________________________________________________________\n",
    "Удаление маловлиятельных столбцов"
   ]
  },
  {
   "cell_type": "code",
   "execution_count": null,
   "metadata": {},
   "outputs": [],
   "source": [
    "import pandas as pd\n",
    "\n",
    "#############################################################################################################################################\n",
    "\n",
    "df = pd.read_csv(\"train.csv\")\n",
    "\n",
    "#############################################################################################################################################\n",
    "\n",
    "numeric_df = df.select_dtypes(include=['float64', 'int64'])\n",
    "\n",
    "ln = ['client_id', 'report_date']\n",
    "\n",
    "percent = 10\n",
    "\n",
    "for elm in numeric_df.columns:\n",
    "\n",
    "    asis = df[elm].corr(df['target'])\n",
    "    if asis >= percent / 100: ln.append(elm)\n",
    "\n",
    "#############################################################################################################################################\n",
    "\n",
    "dn = list(df.columns)\n",
    "\n",
    "for elm in ln: \n",
    "    print(elm)\n",
    "    dn.remove(elm)\n",
    "\n",
    "df = df.drop(dn, axis=1)\n",
    "\n",
    "df.info()\n",
    "\n",
    "df.to_csv( \"train1.csv\", index=False, encoding='utf-8-sig')"
   ]
  },
  {
   "cell_type": "code",
   "execution_count": null,
   "metadata": {},
   "outputs": [],
   "source": [
    "import pandas as pd\n",
    "\n",
    "df = pd.read_csv(\"train1.csv\")\n",
    "\n",
    "df = df.dropna(subset=list(df.columns))    # Если эти в строках эти столбцы будут пустыми, то они будут стёрты\n",
    "df.to_csv(\"train1.csv\", index=False)"
   ]
  }
 ],
 "metadata": {
  "kernelspec": {
   "display_name": ".venv",
   "language": "python",
   "name": "python3"
  },
  "language_info": {
   "codemirror_mode": {
    "name": "ipython",
    "version": 3
   },
   "file_extension": ".py",
   "mimetype": "text/x-python",
   "name": "python",
   "nbconvert_exporter": "python",
   "pygments_lexer": "ipython3",
   "version": "3.11.9"
  }
 },
 "nbformat": 4,
 "nbformat_minor": 2
}
