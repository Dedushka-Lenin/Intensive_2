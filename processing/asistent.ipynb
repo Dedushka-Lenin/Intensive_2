{
 "cells": [
  {
   "cell_type": "markdown",
   "metadata": {},
   "source": [
    "_____________________________________________________________________________________________________________________________________________________________________________________________\n",
    "\n",
    "Инфо"
   ]
  },
  {
   "cell_type": "code",
   "execution_count": null,
   "metadata": {},
   "outputs": [
    {
     "name": "stdout",
     "output_type": "stream",
     "text": [
      "<class 'pandas.core.frame.DataFrame'>\n",
      "RangeIndex: 14456 entries, 0 to 14455\n",
      "Columns: 766 entries, report_date to col2663\n",
      "dtypes: float64(752), int64(3), object(11)\n",
      "memory usage: 84.5+ MB\n"
     ]
    },
    {
     "data": {
      "text/plain": [
       "array([    nan, 55.7483, 59.8983, 51.6664, 61.2431, 60.0722, 55.7524,\n",
       "       52.7593, 54.9022, 61.7933, 57.7686, 48.7168, 59.7445, 43.2638,\n",
       "       43.1068, 50.6165, 64.5676, 59.9759, 55.7386, 66.0793, 65.6634,\n",
       "       55.8117, 56.3511, 59.9417, 54.799 , 59.955 , 43.5994, 56.1342,\n",
       "       55.785 , 58.5896, 52.2978, 64.5689, 59.5508, 54.2056, 56.303 ,\n",
       "       55.4323, 59.7707, 52.0333, 58.0081, 52.3759, 52.5882, 56.8439,\n",
       "       59.9061, 62.0313, 56.8489, 58.047 , 45.0355, 60.7142, 53.6958,\n",
       "       56.7511, 51.5095, 42.4411, 56.4911, 56.4037, 57.1533, 48.4817,\n",
       "       47.2361, 51.2993, 55.7666, 56.8456, 61.7788, 53.5323, 69.0602,\n",
       "       56.8651, 56.3327, 56.0095, 69.3444, 54.9978, 33.8333, 59.2466,\n",
       "       59.6835, 68.9702, 42.8296, 59.5686, 56.1794, 54.3693, 58.0041,\n",
       "       53.1785, 55.8015, 55.1712, 53.7072, 56.0133, 59.433 , 36.5398,\n",
       "       55.7489, 55.996 , 60.0506, 62.5349, 51.6539, 50.458 , 61.031 ,\n",
       "       48.7622, 64.543 , 59.3779, 43.1193, 48.8073, 55.6784, 56.8501,\n",
       "       61.0813, 40.1817, 60.0152, 13.8862, 61.6734, 55.7882, 48.8582,\n",
       "       53.0144, 48.8323, 53.2859, 63.5529, 55.1553, 57.4977, 50.2705,\n",
       "       56.3333, 41.0214, 45.0424, 51.1394, 53.3146, 59.8012, 55.8919,\n",
       "       60.2188, 53.195 , 44.9262, 60.1797, 55.3662, 59.4486, 51.5614,\n",
       "       55.4216, 60.1719, 65.5326, 55.7946, 60.1792, 60.0134, 56.0122,\n",
       "       59.3591, 47.5636, 51.1204, 50.2962, 60.0478, 56.0176, 44.9607,\n",
       "       57.336 , 51.7214, 55.6877, 24.6869, 54.1786, 60.0992, 59.8982,\n",
       "       56.6133, 52.3824, 52.3385, 52.2484, 51.8286, 58.1802, 44.1183,\n",
       "       63.166 , 57.4544, 52.3528, 55.5529, 59.9005, 46.3454, 56.1713,\n",
       "       63.0105, 25.2633, 38.4549, 57.6135, 54.7065, 50.1188, 55.8204,\n",
       "       55.9711, 59.9291, 52.2296, 56.8694, 59.5791, 60.1717, 53.3597,\n",
       "       59.4034, 55.9158, 56.0659, 40.7387, 41.0145, 56.1865, 54.3205,\n",
       "       56.0516, 58.5608])"
      ]
     },
     "execution_count": 5,
     "metadata": {},
     "output_type": "execute_result"
    }
   ],
   "source": [
    "import pandas as pd\n",
    "import seaborn as sns\n",
    "\n",
    "df = pd.read_csv(\"train.csv\")\n",
    "\n",
    "df.info()\n",
    "\n",
    "# sns.heatmap(df.isnull(), cmap='cividis', annot_kws={'size': 15000})\n",
    "\n",
    "for elm in df.columns:\n",
    "    nuv = df[elm].nunique()\n",
    "    if nuv < 2: df['col476'].unique()\n",
    "    "
   ]
  },
  {
   "cell_type": "markdown",
   "metadata": {},
   "source": [
    "_____________________________________________________________________________________________________________________________________________________________________________________________\n",
    "\n",
    "Поиск процентов"
   ]
  },
  {
   "cell_type": "code",
   "execution_count": null,
   "metadata": {},
   "outputs": [],
   "source": [
    "import pandas as pd\n",
    "\n",
    "df = pd.read_csv(\"train.csv\")\n",
    "\n",
    "dn = []\n",
    "nop_list = []\n",
    "percent = 20\n",
    "\n",
    "for elm in df.columns:\n",
    "    nop = len(df) - df.isnull().sum()[elm]\n",
    "    if nop < len(df) / 100 * percent: nop_list.append(nop)\n",
    "\n",
    "for i in range(1, 21):\n",
    "    asist = []\n",
    "\n",
    "    for elm in nop_list:\n",
    "        if elm < len(df) / 100 * i: asist.append(nop)\n",
    "\n",
    "    dn.append(len(asist))\n",
    "\n",
    "print(dn)"
   ]
  },
  {
   "cell_type": "markdown",
   "metadata": {},
   "source": [
    "_____________________________________________________________________________________________________________________________________________________________________________________________\n",
    "\n",
    "Удаление моло заполненных столбцов"
   ]
  },
  {
   "cell_type": "code",
   "execution_count": null,
   "metadata": {},
   "outputs": [],
   "source": [
    "import pandas as pd\n",
    "\n",
    "df = pd.read_csv(\"train.csv\")\n",
    "\n",
    "dn = []\n",
    "percent = 8\n",
    "\n",
    "for elm in df.columns:\n",
    "    nop = len(df) - df.isnull().sum()[elm]\n",
    "    if nop < len(df) / 100 * percent: dn.append(elm)\n",
    "\n",
    "df = df.drop(dn, axis=1)\n",
    "df.to_csv( \"train.csv\", index=False, encoding='utf-8-sig')\n"
   ]
  },
  {
   "cell_type": "markdown",
   "metadata": {},
   "source": [
    "_____________________________________________________________________________________________________________________________________________________________________________________________\n",
    "\n",
    "Удаление дубликатов строк"
   ]
  },
  {
   "cell_type": "code",
   "execution_count": 2,
   "metadata": {},
   "outputs": [
    {
     "name": "stdout",
     "output_type": "stream",
     "text": [
      "<class 'pandas.core.frame.DataFrame'>\n",
      "RangeIndex: 14456 entries, 0 to 14455\n",
      "Columns: 766 entries, report_date to col2663\n",
      "dtypes: float64(752), int64(3), object(11)\n",
      "memory usage: 84.5+ MB\n"
     ]
    }
   ],
   "source": [
    "import pandas as pd\n",
    "\n",
    "df = pd.read_csv(\"train.csv\")\n",
    "df = df.drop_duplicates()\n",
    "\n",
    "df.info()\n",
    "\n",
    "df.to_csv(\"train.csv\", index=False)"
   ]
  },
  {
   "cell_type": "code",
   "execution_count": null,
   "metadata": {},
   "outputs": [
    {
     "name": "stdout",
     "output_type": "stream",
     "text": [
      "<class 'pandas.core.frame.DataFrame'>\n",
      "RangeIndex: 14456 entries, 0 to 14455\n",
      "Columns: 572 entries, report_date to col2663\n",
      "dtypes: float64(558), int64(3), object(11)\n",
      "memory usage: 63.1+ MB\n"
     ]
    }
   ],
   "source": [
    "import pandas as pd\n",
    "\n",
    "df = pd.read_csv(\"train.csv\")\n",
    "\n",
    "dn = []\n",
    "\n",
    "for elm in df.columns:\n",
    "    nuv = df[elm].nunique()\n",
    "    if nuv < 2: dn.append(elm)\n",
    "\n",
    "df = df.drop(dn, axis=1) \n",
    "\n",
    "df.to_csv(\"train.csv\", index=False)"
   ]
  }
 ],
 "metadata": {
  "kernelspec": {
   "display_name": ".venv",
   "language": "python",
   "name": "python3"
  },
  "language_info": {
   "codemirror_mode": {
    "name": "ipython",
    "version": 3
   },
   "file_extension": ".py",
   "mimetype": "text/x-python",
   "name": "python",
   "nbconvert_exporter": "python",
   "pygments_lexer": "ipython3",
   "version": "3.11.9"
  }
 },
 "nbformat": 4,
 "nbformat_minor": 2
}
