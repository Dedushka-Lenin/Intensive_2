{
 "cells": [
  {
   "cell_type": "markdown",
   "metadata": {},
   "source": [
    "_______________________________________________________________________________________________\n",
    "\n",
    "Выводит таблицы"
   ]
  },
  {
   "cell_type": "code",
   "execution_count": null,
   "metadata": {},
   "outputs": [],
   "source": [
    "import numpy as np\n",
    "import pandas as pd\n",
    "import matplotlib.pyplot as plt\n",
    "import seaborn as sns\n",
    "\n",
    "df = pd.read_csv(\"data/train.csv\")\n",
    "df.info()"
   ]
  },
  {
   "cell_type": "markdown",
   "metadata": {},
   "source": [
    "____________________________________________________________________________________________________________________________________________________________________________________________\n",
    "\n",
    "Изменение типа данных столбца"
   ]
  },
  {
   "cell_type": "code",
   "execution_count": null,
   "metadata": {},
   "outputs": [],
   "source": [
    "path_base = \"base.csv\"\n",
    "\n",
    "df = pd.read_csv(path_base)\n",
    "\n",
    "column = ['price']  # Столбцы которые требуют изменения\n",
    "\n",
    "for elm in column:\n",
    "    df[elm] = df[elm].astype(int)   # Тип данных\n",
    "\n",
    "df.to_csv( path_base, index=False, encoding='utf-8-sig')"
   ]
  },
  {
   "cell_type": "markdown",
   "metadata": {},
   "source": [
    "_________________________________________________________________________________________________________________________________________________________________________________________\n",
    "\n",
    "Удаление столбцов"
   ]
  },
  {
   "cell_type": "code",
   "execution_count": null,
   "metadata": {},
   "outputs": [],
   "source": [
    "import pandas as pd\n",
    "\n",
    "path_base = \"base.csv\"\n",
    "path_res = \"base.csv\"\n",
    "\n",
    "df = pd.read_csv(path_base)\n",
    "\n",
    "total = df.drop(\n",
    "    ['author','location','deal_type','accommodation_type','price_per_month','commissions','street','house_number','district','residential_complex', 'url', 'price'],\n",
    "    axis=1)    # Столбцы требующие удаления\n",
    "\n",
    "total.info()\n",
    "\n",
    "total.to_csv( path_res, index=False, encoding='utf-8-sig')"
   ]
  },
  {
   "cell_type": "markdown",
   "metadata": {},
   "source": [
    "_________________________________________________________________________________________________________________________________________________________________________________________\n",
    "\n",
    "Удаление строк"
   ]
  },
  {
   "cell_type": "code",
   "execution_count": null,
   "metadata": {},
   "outputs": [],
   "source": [
    "import pandas as pd\n",
    "\n",
    "path_base = \"base.csv\"\n",
    "\n",
    "df = pd.read_csv(path_base)\n",
    "df = df.dropna(subset=['author_type','url','floor','floors_count','rooms_count','total_meters','price'])    # Если эти в строках эти столбцы будут пустыми, то они будут стёрты\n",
    "df.to_csv(path_base, index=False)"
   ]
  },
  {
   "cell_type": "code",
   "execution_count": null,
   "metadata": {},
   "outputs": [],
   "source": [
    "import pandas as pd\n",
    "\n",
    "path_base = \"base.csv\"\n",
    "\n",
    "df = pd.read_csv(path_base)\n",
    "df = df.loc[df['author_type'] != 'unknown']\n",
    "\n",
    "df.to_csv(path_base, index=False)"
   ]
  },
  {
   "cell_type": "code",
   "execution_count": null,
   "metadata": {},
   "outputs": [],
   "source": [
    "import pandas as pd\n",
    "\n",
    "path_base = \"base.csv\"\n",
    "\n",
    "df = pd.read_csv(path_base)\n",
    "df['underground'].fillna('not available', inplace=True)\n",
    "df.to_csv(path_base, index=False)"
   ]
  },
  {
   "cell_type": "markdown",
   "metadata": {},
   "source": [
    "______________________________________________________________________________________________________________________________________________________________________________________________\n",
    "\n",
    "Удаление дубликатов"
   ]
  },
  {
   "cell_type": "code",
   "execution_count": null,
   "metadata": {},
   "outputs": [],
   "source": [
    "import pandas as pd\n",
    "\n",
    "path_base = \"base.csv\"\n",
    "\n",
    "data = pd.read_csv(path_base)\n",
    "data = data.drop_duplicates()\n",
    "data.to_csv(path_base, index=False)"
   ]
  },
  {
   "cell_type": "markdown",
   "metadata": {},
   "source": [
    "__________________________________________________________________________________________________________________________________________________________________________________________________________\n",
    "\n",
    "Создание доп данных"
   ]
  },
  {
   "cell_type": "code",
   "execution_count": null,
   "metadata": {},
   "outputs": [],
   "source": [
    "import pandas as pd\n",
    "\n",
    "path_base = \"base.csv\"\n",
    "data = pd.read_csv(path_base)\n",
    "\n",
    "def metro(row):\n",
    "    if row['underground'] == 'not available': return False\n",
    "    return True\n",
    "\n",
    "def meters(row):\n",
    "    return round(row['price']/row['total_meters'])\n",
    "\n",
    "data['availability_underground'] = data.apply(metro, axis=1)\n",
    "data['price_per_meter'] = data.apply(meters, axis=1)\n",
    "data.to_csv(path_base, index=False)"
   ]
  }
 ],
 "metadata": {
  "kernelspec": {
   "display_name": ".venv",
   "language": "python",
   "name": "python3"
  },
  "language_info": {
   "codemirror_mode": {
    "name": "ipython",
    "version": 3
   },
   "file_extension": ".py",
   "mimetype": "text/x-python",
   "name": "python",
   "nbconvert_exporter": "python",
   "pygments_lexer": "ipython3",
   "version": "3.11.9"
  }
 },
 "nbformat": 4,
 "nbformat_minor": 2
}
